{
  "nbformat": 4,
  "nbformat_minor": 0,
  "metadata": {
    "colab": {
      "provenance": [],
      "authorship_tag": "ABX9TyO8yEyO7m/GJAUKNz43Jar/",
      "include_colab_link": true
    },
    "kernelspec": {
      "name": "python3",
      "display_name": "Python 3"
    },
    "language_info": {
      "name": "python"
    }
  },
  "cells": [
    {
      "cell_type": "markdown",
      "metadata": {
        "id": "view-in-github",
        "colab_type": "text"
      },
      "source": [
        "<a href=\"https://colab.research.google.com/github/sharmashivika240-eng/shivika/blob/main/Untitled0.ipynb\" target=\"_parent\"><img src=\"https://colab.research.google.com/assets/colab-badge.svg\" alt=\"Open In Colab\"/></a>"
      ]
    },
    {
      "cell_type": "code",
      "source": [
        "prburger=50\n",
        "pizza=100\n",
        "a=input(\"the quantity of burger\")\n",
        "b=int(input(\"quantity of pizza\"))\n",
        "\n",
        "total=(a*burger)+(b*pizza)\n",
        "int(\"the total prize is -\",total)\n"
      ],
      "metadata": {
        "id": "GxsAcJCb_ccP"
      },
      "execution_count": null,
      "outputs": []
    },
    {
      "cell_type": "code",
      "source": [],
      "metadata": {
        "id": "oamURlpv9gYH"
      },
      "execution_count": null,
      "outputs": []
    },
    {
      "cell_type": "code",
      "execution_count": null,
      "metadata": {
        "id": "GCAnID1U-uOM"
      },
      "outputs": [],
      "source": [
        "\n"
      ]
    },
    {
      "cell_type": "markdown",
      "source": [],
      "metadata": {
        "id": "RvgeztYM9l2h"
      }
    },
    {
      "cell_type": "code",
      "source": [],
      "metadata": {
        "id": "RlRo_xgC9qb1"
      },
      "execution_count": null,
      "outputs": []
    }
  ]
}